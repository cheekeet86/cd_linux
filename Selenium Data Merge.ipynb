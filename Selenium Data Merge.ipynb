{
 "cells": [
  {
   "cell_type": "code",
   "execution_count": 25,
   "metadata": {},
   "outputs": [],
   "source": [
    "import re\n",
    "import numpy as np\n",
    "import pandas as pd\n",
    "import os\n",
    "from os import walk\n",
    "import time "
   ]
  },
  {
   "cell_type": "code",
   "execution_count": 32,
   "metadata": {},
   "outputs": [],
   "source": [
    "rootfolder = \"NEA_2011_2018\"\n",
    "\n",
    "for (dirname, dirlist, flist) in walk(rootfolder):\n",
    "    df = pd.concat((pd.read_csv(rootfolder+\"/\"+f, encoding = \"ISO-8859-1\") for f in flist))"
   ]
  },
  {
   "cell_type": "markdown",
   "metadata": {},
   "source": [
    "## Take note, if NEA server experience load they might return an excel file with HTML error in it, therefore the next line of code might be useful"
   ]
  },
  {
   "cell_type": "code",
   "execution_count": 34,
   "metadata": {},
   "outputs": [],
   "source": [
    "if '<html>' in df.columns:\n",
    "    df = df.drop(['<html>'], axis=1)"
   ]
  },
  {
   "cell_type": "code",
   "execution_count": 38,
   "metadata": {},
   "outputs": [],
   "source": [
    "# replace weird chars with standard nan\n",
    "df2 = df.replace(to_replace='\\x97',value=np.nan)"
   ]
  },
  {
   "cell_type": "code",
   "execution_count": 39,
   "metadata": {},
   "outputs": [
    {
     "data": {
      "text/plain": [
       "Station                             0\n",
       "Year                                0\n",
       "Month                               0\n",
       "Day                                 0\n",
       "Daily Rainfall Total (mm)           7\n",
       "Highest 30 Min Rainfall (mm)     8993\n",
       "Highest 60 Min Rainfall (mm)     8993\n",
       "Highest 120 Min Rainfall (mm)    8993\n",
       "Mean Temperature (°C)            3825\n",
       "Maximum Temperature (°C)          104\n",
       "Minimum Temperature (°C)          116\n",
       "Mean Wind Speed (km/h)            103\n",
       "Max Wind Speed (km/h)             541\n",
       "dtype: int64"
      ]
     },
     "execution_count": 39,
     "metadata": {},
     "output_type": "execute_result"
    }
   ],
   "source": [
    "df2.isnull().sum()"
   ]
  },
  {
   "cell_type": "code",
   "execution_count": 43,
   "metadata": {},
   "outputs": [],
   "source": [
    "years = df2.Year.unique()"
   ]
  },
  {
   "cell_type": "code",
   "execution_count": 48,
   "metadata": {},
   "outputs": [],
   "source": [
    "sName = '_'.join(['NEA',str(np.min(years)),str(np.max(years)),'all'])"
   ]
  },
  {
   "cell_type": "code",
   "execution_count": 52,
   "metadata": {},
   "outputs": [],
   "source": [
    "df2.to_csv(sName+'.csv', index=False)"
   ]
  }
 ],
 "metadata": {
  "kernelspec": {
   "display_name": "Python 3",
   "language": "python",
   "name": "python3"
  },
  "language_info": {
   "codemirror_mode": {
    "name": "ipython",
    "version": 3
   },
   "file_extension": ".py",
   "mimetype": "text/x-python",
   "name": "python",
   "nbconvert_exporter": "python",
   "pygments_lexer": "ipython3",
   "version": "3.6.4"
  }
 },
 "nbformat": 4,
 "nbformat_minor": 2
}
